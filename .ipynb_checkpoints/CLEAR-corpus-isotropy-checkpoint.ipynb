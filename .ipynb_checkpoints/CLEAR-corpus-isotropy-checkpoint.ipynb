{
 "cells": [
  {
   "cell_type": "code",
   "execution_count": 1,
   "id": "961643c1",
   "metadata": {},
   "outputs": [
    {
     "name": "stdout",
     "output_type": "stream",
     "text": [
      "Once deleted, variables cannot be recovered. Proceed (y/[n])? y\n"
     ]
    }
   ],
   "source": [
    "%reset\n",
    "%matplotlib inline\n",
    "%config InlineBackend.figure_format = 'retina'  # makes figs nicer!\n",
    "\n",
    "import functools\n",
    "import os\n",
    "import torch\n",
    "import transformers\n",
    "\n",
    "import numpy as np\n",
    "import pandas as pd\n",
    "import matplotlib.pyplot as plt\n",
    "import seaborn as sns\n",
    "\n",
    "from numpy import linalg\n",
    "from sklearn.decomposition import PCA\n",
    "from tqdm.notebook import tqdm\n",
    "from transformers import AutoTokenizer\n",
    "\n",
    "\n",
    "sns.set(style='whitegrid',font_scale=1.2)"
   ]
  },
  {
   "cell_type": "code",
   "execution_count": 7,
   "id": "6bde4229",
   "metadata": {},
   "outputs": [],
   "source": [
    "## TODO: make this a class\n",
    "\n",
    "## Step 2\n",
    "def pca_normalization(points):\n",
    "    \"\"\"points: (m samples x n dimensions)\"\"\"\n",
    "    \n",
    "    pca = PCA(n_components=len(np.transpose(points)))\n",
    "    points = pca.fit_transform(points)\n",
    "\n",
    "    return np.transpose(points)\n",
    "\n",
    "## Step 3\n",
    "def get_diag_of_cov(points):\n",
    "    \"\"\"points: (n dims x m samples)\"\"\"\n",
    "    \n",
    "    n = np.shape(points)[0]\n",
    "    cov = np.cov(points)\n",
    "    cov_diag = cov[np.diag_indices(n)]\n",
    "\n",
    "    return cov_diag\n",
    "\n",
    "## Step 4\n",
    "def normalize_diagonal(cov_diag):\n",
    "\n",
    "    n = len(cov_diag)\n",
    "    cov_diag_normalized = (cov_diag*np.sqrt(n))/np.linalg.norm(cov_diag)\n",
    "\n",
    "    return cov_diag_normalized\n",
    "\n",
    "## Step 5\n",
    "def get_isotropy_defect(cov_diag_normalized):\n",
    "\n",
    "    n = len(cov_diag_normalized)\n",
    "    iso_diag = np.eye(n)[np.diag_indices(n)]\n",
    "    l2_norm = np.linalg.norm(cov_diag_normalized - iso_diag)\n",
    "    normalization_constant = np.sqrt(2*(n-np.sqrt(n)))\n",
    "    isotropy_defect = l2_norm/normalization_constant\n",
    "\n",
    "    return isotropy_defect\n",
    "\n",
    "## Interlude\n",
    "def get_kdims(isotropy_defect, points): \n",
    "    \n",
    "    n = np.shape(points)[0]\n",
    "    k = ((n-(isotropy_defect**2)*(n-np.sqrt(n)))**2) / n\n",
    "    \n",
    "    return k\n",
    "\n",
    "def get_fraction_dims(k, points):\n",
    "    \n",
    "    n = np.shape(points)[0]\n",
    "    phi = k/n\n",
    "    \n",
    "    return phi\n",
    "\n",
    "## Step 6\n",
    "def get_IsoScore(isotropy_defect, points):\n",
    "\n",
    "    n = np.shape(points)[0]\n",
    "    the_score = ((n-(isotropy_defect**2)*(n-np.sqrt(n)))**2-n)/(n*(n-1))\n",
    "\n",
    "    return the_score\n",
    "\n"
   ]
  },
  {
   "cell_type": "code",
   "execution_count": 10,
   "id": "98d14a24",
   "metadata": {},
   "outputs": [
    {
     "name": "stdout",
     "output_type": "stream",
     "text": [
      "IsoScore for 100 points sampled from this line in R^3 is 2.870879740444849e-17.\n",
      "k dimensions used uniformly for 100 points from line is 1.\n",
      "phi fraction dimensions used uniformly for 100 points from line is 0.3333333333333334.\n"
     ]
    }
   ],
   "source": [
    "### Example code\n",
    "\n",
    "random_array_1 = np.random.normal(size=100)\n",
    "random_array_2 = np.random.normal(size=100)\n",
    "random_array_3 = np.random.normal(size=100)\n",
    "\n",
    "# Computing the IsoScore for points sampled from a line (dim=1) in R^3\n",
    "point_cloud_line = np.array([random_array_1, np.zeros(100), np.zeros(100)])\n",
    "\n",
    "pca_points = pca_normalization(np.transpose(point_cloud_line))\n",
    "\n",
    "cov_diag = get_diag_of_cov(pca_points)\n",
    "\n",
    "\n",
    "cov_diag_normalized = normalize_diagonal(cov_diag)\n",
    "\n",
    "\n",
    "isotropy_defect = get_isotropy_defect(cov_diag_normalized)\n",
    "\n",
    "k = get_kdims(isotropy_defect, pca_points)\n",
    "\n",
    "phi = get_fraction_dims(k, pca_points)\n",
    "\n",
    "the_score = get_IsoScore(isotropy_defect,np.transpose(point_cloud_line))\n",
    "\n",
    "\n",
    "# the_score = IsoScore.IsoScore(np.transpose(point_cloud_line))\n",
    "print(f\"IsoScore for 100 points sampled from this line in R^3 is {the_score}.\")\n",
    "print(f\"k dimensions used uniformly for 100 points from line is {round(k)}.\")\n",
    "print(f\"phi fraction dimensions used uniformly for 100 points from line is {phi}.\")"
   ]
  },
  {
   "cell_type": "code",
   "execution_count": null,
   "id": "0f549bb3",
   "metadata": {},
   "outputs": [],
   "source": []
  }
 ],
 "metadata": {
  "kernelspec": {
   "display_name": "Python 3 (ipykernel)",
   "language": "python",
   "name": "python3"
  },
  "language_info": {
   "codemirror_mode": {
    "name": "ipython",
    "version": 3
   },
   "file_extension": ".py",
   "mimetype": "text/x-python",
   "name": "python",
   "nbconvert_exporter": "python",
   "pygments_lexer": "ipython3",
   "version": "3.9.13"
  }
 },
 "nbformat": 4,
 "nbformat_minor": 5
}
